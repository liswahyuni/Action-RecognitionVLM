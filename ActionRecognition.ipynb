{
 "cells": [
  {
   "cell_type": "code",
   "execution_count": 1,
   "metadata": {},
   "outputs": [],
   "source": [
    "# Import Libraries\n",
    "import torch\n",
    "import clip\n",
    "from PIL import Image\n",
    "import os\n",
    "import cv2\n",
    "from tqdm import tqdm\n",
    "import numpy as np\n",
    "from sklearn.metrics import accuracy_score, confusion_matrix, ConfusionMatrixDisplay\n",
    "import matplotlib.pyplot as plt\n",
    "import collections\n",
    "from torch.utils.data import Dataset, DataLoader"
   ]
  },
  {
   "cell_type": "code",
   "execution_count": 2,
   "metadata": {},
   "outputs": [
    {
     "name": "stdout",
     "output_type": "stream",
     "text": [
      "Video path: UCF-101\n",
      "Split path: UCF101TrainTestSplits-RecognitionTask/ucfTrainTestlist\n"
     ]
    }
   ],
   "source": [
    "UCF101_VID_PATH = \"UCF-101\"\n",
    "\n",
    "UCF101_SPLIT_PATH = \"UCF101TrainTestSplits-RecognitionTask/ucfTrainTestlist\"\n",
    "\n",
    "print(f\"Video path: {UCF101_VID_PATH}\")\n",
    "print(f\"Split path: {UCF101_SPLIT_PATH}\")"
   ]
  },
  {
   "cell_type": "code",
   "execution_count": 3,
   "metadata": {},
   "outputs": [
    {
     "name": "stdout",
     "output_type": "stream",
     "text": [
      "Using device: cuda\n"
     ]
    }
   ],
   "source": [
    "DEVICE = \"cuda\" if torch.cuda.is_available() else \"cpu\"\n",
    "print(f\"Using device: {DEVICE}\")"
   ]
  },
  {
   "cell_type": "code",
   "execution_count": 4,
   "metadata": {},
   "outputs": [],
   "source": [
    "def parse_class_index(split_path, num_classes_to_take=15):\n",
    "    \"\"\"\n",
    "    Parses classInd.txt to get a list of class names and a name-to-index map,\n",
    "    but only takes the first `num_classes_to_take`.\n",
    "    \"\"\"\n",
    "    class_ind_path = os.path.join(split_path, 'classInd.txt')\n",
    "    class_list = []\n",
    "    \n",
    "    with open(class_ind_path, 'r') as f:\n",
    "        for line in f:\n",
    "            # Stop reading the file once we have enough classes\n",
    "            if len(class_list) >= num_classes_to_take:\n",
    "                break\n",
    "            \n",
    "            parts = line.strip().split()\n",
    "            if len(parts) == 2:\n",
    "                class_list.append(parts[1])\n",
    "    \n",
    "    # Sort the selected subset for consistency\n",
    "    class_list.sort()\n",
    "    # Create a mapping from class name to a 0-based index\n",
    "    name_to_idx = {name: i for i, name in enumerate(class_list)}\n",
    "    \n",
    "    return class_list, name_to_idx"
   ]
  },
  {
   "cell_type": "code",
   "execution_count": 5,
   "metadata": {},
   "outputs": [
    {
     "name": "stdout",
     "output_type": "stream",
     "text": [
      "Successfully loaded 15 classes.\n",
      "First 15 classes: ['ApplyEyeMakeup', 'ApplyLipstick', 'Archery', 'BabyCrawling', 'BalanceBeam', 'BandMarching', 'BaseballPitch', 'Basketball', 'BasketballDunk', 'BenchPress', 'Biking', 'Billiards', 'BlowDryHair', 'BlowingCandles', 'BodyWeightSquats']\n",
      "Example name-to-index map: {'ApplyEyeMakeup': 0, 'ApplyLipstick': 1, 'Archery': 2, 'BabyCrawling': 3, 'BalanceBeam': 4, 'BandMarching': 5, 'BaseballPitch': 6, 'Basketball': 7, 'BasketballDunk': 8, 'BenchPress': 9, 'Biking': 10, 'Billiards': 11, 'BlowDryHair': 12, 'BlowingCandles': 13, 'BodyWeightSquats': 14}\n"
     ]
    }
   ],
   "source": [
    "CLASSES, name_to_idx = parse_class_index(UCF101_SPLIT_PATH)\n",
    "print(f\"Successfully loaded {len(CLASSES)} classes.\")\n",
    "print(\"First 15 classes:\", CLASSES)\n",
    "print(\"Example name-to-index map:\", {k: name_to_idx[k] for k in list(name_to_idx)})"
   ]
  },
  {
   "cell_type": "code",
   "execution_count": 6,
   "metadata": {},
   "outputs": [],
   "source": [
    "NUM_FRAMES_TO_SAMPLE = 8  # Number of frames to sample from each video\n",
    "MODEL_NAME = \"ViT-B/32\""
   ]
  },
  {
   "cell_type": "code",
   "execution_count": 7,
   "metadata": {},
   "outputs": [],
   "source": [
    "def parse_train_split(split_path, video_root, name_to_idx_map, file_name):\n",
    "    \"\"\"Parses a trainlistXX.txt file, filtering for classes in name_to_idx_map.\"\"\"\n",
    "    train_file_path = os.path.join(split_path, file_name)\n",
    "    video_paths = []\n",
    "    labels = []\n",
    "    \n",
    "    with open(train_file_path, 'r') as f:\n",
    "        for line in f:\n",
    "            parts = line.strip().split()\n",
    "            if len(parts) == 2:\n",
    "                class_name = parts[0].split('/')[0]\n",
    "                \n",
    "                # --- KEY CHANGE ---\n",
    "                # Only process the line if its class is in our selected subset of 15.\n",
    "                if class_name in name_to_idx_map:\n",
    "                    video_path = os.path.join(video_root, parts[0])\n",
    "                    label = name_to_idx_map[class_name]\n",
    "                    \n",
    "                    video_paths.append(video_path)\n",
    "                    labels.append(label)\n",
    "                    \n",
    "    return video_paths, labels"
   ]
  },
  {
   "cell_type": "code",
   "execution_count": 8,
   "metadata": {},
   "outputs": [
    {
     "name": "stdout",
     "output_type": "stream",
     "text": [
      "Found 1442 videos for training.\n",
      "\n",
      "--- Example Training Data ---\n",
      "Video: UCF-101\\ApplyEyeMakeup/v_ApplyEyeMakeup_g08_c01.avi, Label: 0\n",
      "Video: UCF-101\\ApplyEyeMakeup/v_ApplyEyeMakeup_g08_c02.avi, Label: 0\n",
      "Video: UCF-101\\ApplyEyeMakeup/v_ApplyEyeMakeup_g08_c03.avi, Label: 0\n"
     ]
    }
   ],
   "source": [
    "train_videos, train_labels = parse_train_split(UCF101_SPLIT_PATH, UCF101_VID_PATH, name_to_idx, 'trainlist01.txt')\n",
    "print(f\"Found {len(train_videos)} videos for training.\")\n",
    "print(\"\\n--- Example Training Data ---\")\n",
    "for i in range(3):\n",
    "    print(f\"Video: {train_videos[i]}, Label: {train_labels[i]}\")"
   ]
  },
  {
   "cell_type": "code",
   "execution_count": 9,
   "metadata": {},
   "outputs": [],
   "source": [
    "def parse_test_split(split_path, video_root, name_to_idx_map,filename):\n",
    "    \"\"\"Parses a testlistXX.txt file, filtering for classes in name_to_idx_map.\"\"\"\n",
    "    test_file_path = os.path.join(split_path, filename)\n",
    "    video_paths = []\n",
    "    labels = []\n",
    "    \n",
    "    with open(test_file_path, 'r') as f:\n",
    "        for line in f:\n",
    "            # line is just \"ClassName/video_name.avi\"\n",
    "            video_rel_path = line.strip()\n",
    "            if not video_rel_path: continue # Skip empty lines\n",
    "\n",
    "            class_name = video_rel_path.split('/')[0]\n",
    "            \n",
    "            # Only process if the class is in our selected subset\n",
    "            if class_name in name_to_idx_map:\n",
    "                video_path = os.path.join(video_root, video_rel_path)\n",
    "                label = name_to_idx_map[class_name]\n",
    "                \n",
    "                video_paths.append(video_path)\n",
    "                labels.append(label)\n",
    "                \n",
    "    return video_paths, labels"
   ]
  },
  {
   "cell_type": "code",
   "execution_count": 10,
   "metadata": {},
   "outputs": [
    {
     "name": "stdout",
     "output_type": "stream",
     "text": [
      "Found 568 videos for testing.\n",
      "\n",
      "--- Example testing Data ---\n",
      "Video: UCF-101\\ApplyEyeMakeup/v_ApplyEyeMakeup_g01_c01.avi, Label: 0\n",
      "Video: UCF-101\\ApplyEyeMakeup/v_ApplyEyeMakeup_g01_c02.avi, Label: 0\n",
      "Video: UCF-101\\ApplyEyeMakeup/v_ApplyEyeMakeup_g01_c03.avi, Label: 0\n"
     ]
    }
   ],
   "source": [
    "test_videos, test_labels = parse_test_split(UCF101_SPLIT_PATH, UCF101_VID_PATH, name_to_idx, 'testlist01.txt')\n",
    "print(f\"Found {len(test_videos)} videos for testing.\")\n",
    "print(\"\\n--- Example testing Data ---\")\n",
    "for i in range(3):\n",
    "    print(f\"Video: {test_videos[i]}, Label: {test_labels[i]}\")"
   ]
  },
  {
   "cell_type": "code",
   "execution_count": 11,
   "metadata": {},
   "outputs": [],
   "source": [
    "CLIP_DURATION_SEC = 3  # How long the clip should be\n",
    "NUM_FRAMES_IN_CLIP = 8 # How many frames to sample from that clip\n",
    "FRAME_OUTPUT_PATH = \"ExtractedFrames\" "
   ]
  },
  {
   "cell_type": "code",
   "execution_count": 12,
   "metadata": {},
   "outputs": [
    {
     "name": "stdout",
     "output_type": "stream",
     "text": [
      "CLIP model 'ViT-B/32' loaded successfully on cuda.\n"
     ]
    }
   ],
   "source": [
    "try:\n",
    "    model, preprocess = clip.load(MODEL_NAME, device=DEVICE)\n",
    "    model.eval()\n",
    "    print(f\"CLIP model '{MODEL_NAME}' loaded successfully on {DEVICE}.\")\n",
    "except Exception as e:\n",
    "    print(f\"Error loading CLIP model: {e}\")"
   ]
  },
  {
   "cell_type": "code",
   "execution_count": 13,
   "metadata": {},
   "outputs": [],
   "source": [
    "def extract_clip(video_path, clip_duration_sec, num_frames_in_clip, save_dir=None):\n",
    "    \"\"\"\n",
    "    Extracts a clip from the video's center and optionally saves frames.\n",
    "    \"\"\"\n",
    "    try:\n",
    "        if save_dir:\n",
    "            os.makedirs(save_dir, exist_ok=True)\n",
    "\n",
    "        cap = cv2.VideoCapture(video_path)\n",
    "        fps = cap.get(cv2.CAP_PROP_FPS)\n",
    "        total_frames = int(cap.get(cv2.CAP_PROP_FRAME_COUNT))\n",
    "        frames_in_duration = int(clip_duration_sec * fps)\n",
    "        \n",
    "        if total_frames <= frames_in_duration:\n",
    "            start_frame = 0\n",
    "            clip_frame_count = total_frames\n",
    "        else:\n",
    "            center_frame = total_frames // 2\n",
    "            start_frame = max(0, center_frame - (frames_in_duration // 2))\n",
    "            clip_frame_count = frames_in_duration\n",
    "\n",
    "        frame_indices = np.linspace(start_frame, start_frame + clip_frame_count - 1, num_frames_in_clip, dtype=int)\n",
    "        \n",
    "        frames = []\n",
    "        for i, index in enumerate(frame_indices):\n",
    "            cap.set(cv2.CAP_PROP_POS_FRAMES, index)\n",
    "            ret, frame = cap.read()\n",
    "            if ret:\n",
    "                frame_rgb = cv2.cvtColor(frame, cv2.COLOR_BGR2RGB)\n",
    "                frame_pil = Image.fromarray(frame_rgb)\n",
    "                frames.append(frame_pil)\n",
    "                if save_dir:\n",
    "                    save_path = os.path.join(save_dir, f\"frame_{i:02d}.jpg\")\n",
    "                    frame_pil.save(save_path)\n",
    "        cap.release()\n",
    "        return frames\n",
    "    \n",
    "    except Exception as e:\n",
    "        print(f\"Error processing video {video_path}: {e}\")\n",
    "        return []"
   ]
  },
  {
   "cell_type": "markdown",
   "metadata": {},
   "source": [
    "# Modeling\n",
    "\n",
    "Model yang digunakan CLIP\n",
    "https://github.com/openai/CLIP"
   ]
  },
  {
   "cell_type": "code",
   "execution_count": 14,
   "metadata": {},
   "outputs": [],
   "source": [
    "def get_video_paths_and_labels(root_path, class_list):\n",
    "    \"\"\"Gathers video file paths and their corresponding labels for the selected classes.\"\"\"\n",
    "    video_paths = []\n",
    "    labels = []\n",
    "    label_to_idx = {name: i for i, name in enumerate(class_list)}\n",
    "\n",
    "    if not os.path.exists(root_path):\n",
    "        print(f\"Error: Dataset path '{root_path}' not found.\")\n",
    "        print(\"Please update the UCF101_PATH variable in the Configuration cell.\")\n",
    "        return None, None\n",
    "\n",
    "    for class_name in class_list:\n",
    "        class_path = os.path.join(root_path, class_name)\n",
    "        if os.path.isdir(class_path):\n",
    "            for video_file in os.listdir(class_path):\n",
    "                if video_file.endswith('.avi'):\n",
    "                    video_paths.append(os.path.join(class_path, video_file))\n",
    "                    labels.append(label_to_idx[class_name])\n",
    "    \n",
    "    print(f\"Found {len(video_paths)} videos for {len(class_list)} classes.\")\n",
    "    return video_paths, labels\n",
    "\n",
    "def sample_frames(video_path, num_frames):\n",
    "    \"\"\"Uniformly samples a given number of frames from a video.\"\"\"\n",
    "    try:\n",
    "        cap = cv2.VideoCapture(video_path)\n",
    "        total_frames = int(cap.get(cv2.CAP_PROP_FRAME_COUNT))\n",
    "        \n",
    "        if total_frames == 0:\n",
    "            print(f\"Warning: Could not read frames from {video_path}\")\n",
    "            return []\n",
    "\n",
    "        # Generate evenly spaced frame indices\n",
    "        indices = np.linspace(0, total_frames - 1, num_frames, dtype=int)\n",
    "        \n",
    "        frames = []\n",
    "        for i in indices:\n",
    "            cap.set(cv2.CAP_PROP_POS_FRAMES, i)\n",
    "            ret, frame = cap.read()\n",
    "            if ret:\n",
    "                # Convert frame from BGR (OpenCV) to RGB (PIL)\n",
    "                frame_rgb = cv2.cvtColor(frame, cv2.COLOR_BGR2RGB)\n",
    "                frames.append(Image.fromarray(frame_rgb))\n",
    "        cap.release()\n",
    "        return frames\n",
    "    except Exception as e:\n",
    "        print(f\"Error processing video {video_path}: {e}\")\n",
    "        return []\n",
    "\n",
    "def perform_zero_shot_classification(model, video_paths, true_labels, class_names, split_name):\n",
    "    \"\"\"\n",
    "    Runs classification and saves frames into a split-specific folder.\n",
    "    \"\"\"\n",
    "    text_prompts = [f\"a photo of a person {c}\" for c in class_names]\n",
    "    text_inputs = torch.cat([clip.tokenize(prompt) for prompt in text_prompts]).to(DEVICE)\n",
    "    with torch.no_grad():\n",
    "        text_features = model.encode_text(text_inputs)\n",
    "        text_features /= text_features.norm(dim=-1, keepdim=True)\n",
    "\n",
    "    predictions, ground_truth = [], []\n",
    "    \n",
    "    for i, video_path in enumerate(tqdm(video_paths, desc=f\"Processing {split_name} Set\")):\n",
    "        \n",
    "        # --- KEY FIX: Standardize the path separators ---\n",
    "        video_path = video_path.replace(\"\\\\\", \"/\")\n",
    "\n",
    "        class_name = class_names[true_labels[i]]\n",
    "        video_filename = os.path.splitext(os.path.basename(video_path))[0]\n",
    "        save_directory = os.path.join(FRAME_OUTPUT_PATH, split_name, class_name, video_filename)\n",
    "        \n",
    "        frames = extract_clip(video_path, CLIP_DURATION_SEC, NUM_FRAMES_IN_CLIP, save_dir=save_directory)\n",
    "        \n",
    "        if not frames: continue\n",
    "            \n",
    "        image_inputs = torch.stack([preprocess(frame) for frame in frames]).to(DEVICE)\n",
    "        \n",
    "        with torch.no_grad():\n",
    "            image_features = model.encode_image(image_inputs)\n",
    "            video_feature = image_features.mean(dim=0)\n",
    "            video_feature /= video_feature.norm(dim=-1, keepdim=True)\n",
    "            \n",
    "        logit_scale = model.logit_scale.exp()\n",
    "        similarity = (logit_scale * video_feature @ text_features.T).softmax(dim=-1)\n",
    "        _, top_pred_idx = similarity.topk(1)\n",
    "        \n",
    "        predictions.append(top_pred_idx.item())\n",
    "        ground_truth.append(true_labels[i])\n",
    "        \n",
    "    return predictions, ground_truth"
   ]
  },
  {
   "cell_type": "code",
   "execution_count": 15,
   "metadata": {},
   "outputs": [
    {
     "name": "stdout",
     "output_type": "stream",
     "text": [
      "Found 2010 videos for 15 classes.\n"
     ]
    }
   ],
   "source": [
    "# Get the data paths and labels\n",
    "video_files, video_labels = get_video_paths_and_labels(UCF101_VID_PATH, CLASSES)"
   ]
  },
  {
   "cell_type": "code",
   "execution_count": 16,
   "metadata": {},
   "outputs": [],
   "source": [
    "import pandas as pd\n",
    "def calculate_class_accuracy(true_labels, predicted_labels, class_names):\n",
    "    \"\"\"\n",
    "    Calculates the accuracy for each class and returns a pandas DataFrame.\n",
    "\n",
    "    Args:\n",
    "        true_labels (list): The ground truth labels.\n",
    "        predicted_labels (list): The labels predicted by the model.\n",
    "        class_names (list): A list of all class names, ordered by their index.\n",
    "\n",
    "    Returns:\n",
    "        pandas.DataFrame: A DataFrame with 'Class' and 'Accuracy' columns,\n",
    "                          sorted by accuracy in descending order.\n",
    "    \"\"\"\n",
    "    # Generate the confusion matrix\n",
    "    # The labels argument ensures the matrix is ordered correctly\n",
    "    cm = confusion_matrix(true_labels, predicted_labels, labels=np.arange(len(class_names)))\n",
    "\n",
    "    # Calculate per-class accuracy\n",
    "    # cm.diagonal() gives the number of correct predictions (the diagonal elements)\n",
    "    # cm.sum(axis=1) gives the total number of true samples for each class (sum of each row)\n",
    "    # We add a small epsilon to the denominator to avoid division by zero if a class has no samples\n",
    "    class_acc = cm.diagonal() / (cm.sum(axis=1) + 1e-15)\n",
    "\n",
    "    # Create a DataFrame for easy viewing\n",
    "    acc_df = pd.DataFrame({\n",
    "        'Class': class_names,\n",
    "        'Accuracy': class_acc\n",
    "    })\n",
    "\n",
    "    # Sort by accuracy to easily see the best and worst performing classes\n",
    "    acc_df = acc_df.sort_values(by='Accuracy', ascending=False)\n",
    "    \n",
    "    # Reset index for clean presentation\n",
    "    acc_df = acc_df.reset_index(drop=True)\n",
    "\n",
    "    return acc_df"
   ]
  },
  {
   "cell_type": "code",
   "execution_count": 17,
   "metadata": {},
   "outputs": [
    {
     "name": "stderr",
     "output_type": "stream",
     "text": [
      "Processing Train Set: 100%|██████████| 1442/1442 [03:44<00:00,  6.43it/s]\n"
     ]
    }
   ],
   "source": [
    "train_predicted_labels, train_true_labels = perform_zero_shot_classification(\n",
    "    model,\n",
    "    train_videos,\n",
    "    train_labels,\n",
    "    CLASSES,\n",
    "    split_name='Train'\n",
    ")"
   ]
  },
  {
   "cell_type": "code",
   "execution_count": 18,
   "metadata": {},
   "outputs": [
    {
     "data": {
      "text/html": [
       "<div>\n",
       "<style scoped>\n",
       "    .dataframe tbody tr th:only-of-type {\n",
       "        vertical-align: middle;\n",
       "    }\n",
       "\n",
       "    .dataframe tbody tr th {\n",
       "        vertical-align: top;\n",
       "    }\n",
       "\n",
       "    .dataframe thead th {\n",
       "        text-align: right;\n",
       "    }\n",
       "</style>\n",
       "<table border=\"1\" class=\"dataframe\">\n",
       "  <thead>\n",
       "    <tr style=\"text-align: right;\">\n",
       "      <th></th>\n",
       "      <th>Class</th>\n",
       "      <th>Accuracy</th>\n",
       "    </tr>\n",
       "  </thead>\n",
       "  <tbody>\n",
       "    <tr>\n",
       "      <th>0</th>\n",
       "      <td>BaseballPitch</td>\n",
       "      <td>1.000000</td>\n",
       "    </tr>\n",
       "    <tr>\n",
       "      <th>1</th>\n",
       "      <td>BandMarching</td>\n",
       "      <td>1.000000</td>\n",
       "    </tr>\n",
       "    <tr>\n",
       "      <th>2</th>\n",
       "      <td>BabyCrawling</td>\n",
       "      <td>1.000000</td>\n",
       "    </tr>\n",
       "    <tr>\n",
       "      <th>3</th>\n",
       "      <td>Billiards</td>\n",
       "      <td>1.000000</td>\n",
       "    </tr>\n",
       "    <tr>\n",
       "      <th>4</th>\n",
       "      <td>BlowingCandles</td>\n",
       "      <td>1.000000</td>\n",
       "    </tr>\n",
       "    <tr>\n",
       "      <th>5</th>\n",
       "      <td>BenchPress</td>\n",
       "      <td>1.000000</td>\n",
       "    </tr>\n",
       "    <tr>\n",
       "      <th>6</th>\n",
       "      <td>Biking</td>\n",
       "      <td>1.000000</td>\n",
       "    </tr>\n",
       "    <tr>\n",
       "      <th>7</th>\n",
       "      <td>BasketballDunk</td>\n",
       "      <td>0.968085</td>\n",
       "    </tr>\n",
       "    <tr>\n",
       "      <th>8</th>\n",
       "      <td>BlowDryHair</td>\n",
       "      <td>0.967742</td>\n",
       "    </tr>\n",
       "    <tr>\n",
       "      <th>9</th>\n",
       "      <td>BalanceBeam</td>\n",
       "      <td>0.922078</td>\n",
       "    </tr>\n",
       "    <tr>\n",
       "      <th>10</th>\n",
       "      <td>ApplyLipstick</td>\n",
       "      <td>0.878049</td>\n",
       "    </tr>\n",
       "    <tr>\n",
       "      <th>11</th>\n",
       "      <td>ApplyEyeMakeup</td>\n",
       "      <td>0.821782</td>\n",
       "    </tr>\n",
       "    <tr>\n",
       "      <th>12</th>\n",
       "      <td>Archery</td>\n",
       "      <td>0.778846</td>\n",
       "    </tr>\n",
       "    <tr>\n",
       "      <th>13</th>\n",
       "      <td>BodyWeightSquats</td>\n",
       "      <td>0.682927</td>\n",
       "    </tr>\n",
       "    <tr>\n",
       "      <th>14</th>\n",
       "      <td>Basketball</td>\n",
       "      <td>0.545455</td>\n",
       "    </tr>\n",
       "  </tbody>\n",
       "</table>\n",
       "</div>"
      ],
      "text/plain": [
       "               Class  Accuracy\n",
       "0      BaseballPitch  1.000000\n",
       "1       BandMarching  1.000000\n",
       "2       BabyCrawling  1.000000\n",
       "3          Billiards  1.000000\n",
       "4     BlowingCandles  1.000000\n",
       "5         BenchPress  1.000000\n",
       "6             Biking  1.000000\n",
       "7     BasketballDunk  0.968085\n",
       "8        BlowDryHair  0.967742\n",
       "9        BalanceBeam  0.922078\n",
       "10     ApplyLipstick  0.878049\n",
       "11    ApplyEyeMakeup  0.821782\n",
       "12           Archery  0.778846\n",
       "13  BodyWeightSquats  0.682927\n",
       "14        Basketball  0.545455"
      ]
     },
     "execution_count": 18,
     "metadata": {},
     "output_type": "execute_result"
    }
   ],
   "source": [
    "train_class_accuracy= calculate_class_accuracy(train_true_labels, train_predicted_labels, CLASSES)\n",
    "train_class_accuracy"
   ]
  },
  {
   "cell_type": "code",
   "execution_count": 19,
   "metadata": {},
   "outputs": [
    {
     "name": "stdout",
     "output_type": "stream",
     "text": [
      "Top-1 Accuracy: 90.71%\n"
     ]
    },
    {
     "data": {
      "image/png": "[encoded data removed]",
      "text/plain": [
       "<Figure size 1000x1000 with 2 Axes>"
      ]
     },
     "metadata": {},
     "output_type": "display_data"
    }
   ],
   "source": [
    "# 1. Calculate Top-1 Accuracy\n",
    "top1_acc = accuracy_score(train_true_labels, train_predicted_labels)\n",
    "print(f\"Top-1 Accuracy: {top1_acc * 100:.2f}%\")\n",
    "\n",
    "# 2. Generate and Display Confusion Matrix\n",
    "cm = confusion_matrix(train_true_labels, train_predicted_labels, labels=np.arange(len(CLASSES)))\n",
    "fig, ax = plt.subplots(figsize=(10, 10))\n",
    "disp = ConfusionMatrixDisplay(confusion_matrix=cm, display_labels=CLASSES)\n",
    "disp.plot(ax=ax, xticks_rotation='vertical', cmap='Blues')\n",
    "plt.show()"
   ]
  },
  {
   "cell_type": "code",
   "execution_count": 20,
   "metadata": {},
   "outputs": [
    {
     "name": "stderr",
     "output_type": "stream",
     "text": [
      "Processing Test Set: 100%|██████████| 568/568 [01:10<00:00,  8.00it/s]\n"
     ]
    }
   ],
   "source": [
    "test_predicted_labels, test_true_labels = perform_zero_shot_classification(\n",
    "    model,\n",
    "    test_videos,\n",
    "    test_labels,\n",
    "    CLASSES,\n",
    "    split_name='Test'\n",
    ")"
   ]
  },
  {
   "cell_type": "code",
   "execution_count": 21,
   "metadata": {},
   "outputs": [
    {
     "data": {
      "text/html": [
       "<div>\n",
       "<style scoped>\n",
       "    .dataframe tbody tr th:only-of-type {\n",
       "        vertical-align: middle;\n",
       "    }\n",
       "\n",
       "    .dataframe tbody tr th {\n",
       "        vertical-align: top;\n",
       "    }\n",
       "\n",
       "    .dataframe thead th {\n",
       "        text-align: right;\n",
       "    }\n",
       "</style>\n",
       "<table border=\"1\" class=\"dataframe\">\n",
       "  <thead>\n",
       "    <tr style=\"text-align: right;\">\n",
       "      <th></th>\n",
       "      <th>Class</th>\n",
       "      <th>Accuracy</th>\n",
       "    </tr>\n",
       "  </thead>\n",
       "  <tbody>\n",
       "    <tr>\n",
       "      <th>0</th>\n",
       "      <td>ApplyEyeMakeup</td>\n",
       "      <td>1.000000</td>\n",
       "    </tr>\n",
       "    <tr>\n",
       "      <th>1</th>\n",
       "      <td>Archery</td>\n",
       "      <td>1.000000</td>\n",
       "    </tr>\n",
       "    <tr>\n",
       "      <th>2</th>\n",
       "      <td>BabyCrawling</td>\n",
       "      <td>1.000000</td>\n",
       "    </tr>\n",
       "    <tr>\n",
       "      <th>3</th>\n",
       "      <td>BandMarching</td>\n",
       "      <td>1.000000</td>\n",
       "    </tr>\n",
       "    <tr>\n",
       "      <th>4</th>\n",
       "      <td>BlowingCandles</td>\n",
       "      <td>1.000000</td>\n",
       "    </tr>\n",
       "    <tr>\n",
       "      <th>5</th>\n",
       "      <td>BenchPress</td>\n",
       "      <td>1.000000</td>\n",
       "    </tr>\n",
       "    <tr>\n",
       "      <th>6</th>\n",
       "      <td>Biking</td>\n",
       "      <td>1.000000</td>\n",
       "    </tr>\n",
       "    <tr>\n",
       "      <th>7</th>\n",
       "      <td>Billiards</td>\n",
       "      <td>1.000000</td>\n",
       "    </tr>\n",
       "    <tr>\n",
       "      <th>8</th>\n",
       "      <td>BlowDryHair</td>\n",
       "      <td>0.973684</td>\n",
       "    </tr>\n",
       "    <tr>\n",
       "      <th>9</th>\n",
       "      <td>ApplyLipstick</td>\n",
       "      <td>0.968750</td>\n",
       "    </tr>\n",
       "    <tr>\n",
       "      <th>10</th>\n",
       "      <td>BaseballPitch</td>\n",
       "      <td>0.930233</td>\n",
       "    </tr>\n",
       "    <tr>\n",
       "      <th>11</th>\n",
       "      <td>BasketballDunk</td>\n",
       "      <td>0.891892</td>\n",
       "    </tr>\n",
       "    <tr>\n",
       "      <th>12</th>\n",
       "      <td>BalanceBeam</td>\n",
       "      <td>0.870968</td>\n",
       "    </tr>\n",
       "    <tr>\n",
       "      <th>13</th>\n",
       "      <td>Basketball</td>\n",
       "      <td>0.771429</td>\n",
       "    </tr>\n",
       "    <tr>\n",
       "      <th>14</th>\n",
       "      <td>BodyWeightSquats</td>\n",
       "      <td>0.766667</td>\n",
       "    </tr>\n",
       "  </tbody>\n",
       "</table>\n",
       "</div>"
      ],
      "text/plain": [
       "               Class  Accuracy\n",
       "0     ApplyEyeMakeup  1.000000\n",
       "1            Archery  1.000000\n",
       "2       BabyCrawling  1.000000\n",
       "3       BandMarching  1.000000\n",
       "4     BlowingCandles  1.000000\n",
       "5         BenchPress  1.000000\n",
       "6             Biking  1.000000\n",
       "7          Billiards  1.000000\n",
       "8        BlowDryHair  0.973684\n",
       "9      ApplyLipstick  0.968750\n",
       "10     BaseballPitch  0.930233\n",
       "11    BasketballDunk  0.891892\n",
       "12       BalanceBeam  0.870968\n",
       "13        Basketball  0.771429\n",
       "14  BodyWeightSquats  0.766667"
      ]
     },
     "execution_count": 21,
     "metadata": {},
     "output_type": "execute_result"
    }
   ],
   "source": [
    "test_class_accuracy = calculate_class_accuracy(test_true_labels, test_predicted_labels, CLASSES)\n",
    "test_class_accuracy"
   ]
  },
  {
   "cell_type": "code",
   "execution_count": 22,
   "metadata": {},
   "outputs": [
    {
     "name": "stdout",
     "output_type": "stream",
     "text": [
      "Top-1 Accuracy: 95.07%\n"
     ]
    },
    {
     "data": {
      "image/png": "[encoded data removed]",
      "text/plain": [
       "<Figure size 1000x1000 with 2 Axes>"
      ]
     },
     "metadata": {},
     "output_type": "display_data"
    }
   ],
   "source": [
    "# 1. Calculate Top-1 Accuracy\n",
    "top1_acc = accuracy_score(test_true_labels, test_predicted_labels)\n",
    "print(f\"Top-1 Accuracy: {top1_acc * 100:.2f}%\")\n",
    "\n",
    "# 2. Generate and Display Confusion Matrix\n",
    "cm = confusion_matrix(test_true_labels, test_predicted_labels, labels=np.arange(len(CLASSES)))\n",
    "fig, ax = plt.subplots(figsize=(10, 10))\n",
    "disp = ConfusionMatrixDisplay(confusion_matrix=cm, display_labels=CLASSES)\n",
    "disp.plot(ax=ax, xticks_rotation='vertical', cmap='Blues')\n",
    "plt.show()"
   ]
  },
  {
   "cell_type": "code",
   "execution_count": 23,
   "metadata": {},
   "outputs": [
    {
     "name": "stdout",
     "output_type": "stream",
     "text": [
      "                  precision    recall  f1-score   support\n",
      "\n",
      "  ApplyEyeMakeup       0.96      1.00      0.98        44\n",
      "   ApplyLipstick       1.00      0.97      0.98        32\n",
      "         Archery       1.00      1.00      1.00        41\n",
      "    BabyCrawling       1.00      1.00      1.00        35\n",
      "     BalanceBeam       0.87      0.87      0.87        31\n",
      "    BandMarching       1.00      1.00      1.00        43\n",
      "   BaseballPitch       1.00      0.93      0.96        43\n",
      "      Basketball       0.75      0.77      0.76        35\n",
      "  BasketballDunk       0.73      0.89      0.80        37\n",
      "      BenchPress       0.98      1.00      0.99        48\n",
      "          Biking       1.00      1.00      1.00        38\n",
      "       Billiards       1.00      1.00      1.00        40\n",
      "     BlowDryHair       1.00      0.97      0.99        38\n",
      "  BlowingCandles       1.00      1.00      1.00        33\n",
      "BodyWeightSquats       1.00      0.77      0.87        30\n",
      "\n",
      "        accuracy                           0.95       568\n",
      "       macro avg       0.95      0.94      0.95       568\n",
      "    weighted avg       0.96      0.95      0.95       568\n",
      "\n"
     ]
    }
   ],
   "source": [
    "from sklearn.metrics import classification_report\n",
    "\n",
    "# Create a list of the class names as strings for the report labels\n",
    "class_names = [CLASSES[i] for i in sorted(list(set(test_true_labels)))]\n",
    "\n",
    "# Generate and print the report\n",
    "report = classification_report(test_true_labels, test_predicted_labels, target_names=class_names)\n",
    "\n",
    "print(report)"
   ]
  },
  {
   "cell_type": "markdown",
   "metadata": {},
   "source": [
    "# Fine Tuning"
   ]
  },
  {
   "cell_type": "code",
   "execution_count": 24,
   "metadata": {},
   "outputs": [
    {
     "name": "stdout",
     "output_type": "stream",
     "text": [
      "The 5 classes with the lowest accuracy to be fine-tuned are:\n",
      "['BaseballPitch', 'BasketballDunk', 'BalanceBeam', 'Basketball', 'BodyWeightSquats']\n"
     ]
    }
   ],
   "source": [
    "# Select the last 5 rows from your DataFrame\n",
    "worst_classes_df = test_class_accuracy.tail(5)\n",
    "\n",
    "# Get the class names from the 'Class' column and convert them to a list\n",
    "CLASSES_TO_FINETUNE = worst_classes_df['Class'].tolist()\n",
    "\n",
    "print(\"The 5 classes with the lowest accuracy to be fine-tuned are:\")\n",
    "print(CLASSES_TO_FINETUNE)"
   ]
  },
  {
   "cell_type": "code",
   "execution_count": 25,
   "metadata": {},
   "outputs": [],
   "source": [
    "DEVICE = \"cuda\" if torch.cuda.is_available() else \"cpu\"\n",
    "MODEL_NAME = \"ViT-B/32\""
   ]
  },
  {
   "cell_type": "code",
   "execution_count": 39,
   "metadata": {},
   "outputs": [
    {
     "name": "stdout",
     "output_type": "stream",
     "text": [
      "Reloaded original 'ViT-B/32' model and set to float32.\n"
     ]
    }
   ],
   "source": [
    "# --- Reload the original pre-trained model ---\n",
    "try:\n",
    "    model, preprocess = clip.load(MODEL_NAME, device=DEVICE)\n",
    "    \n",
    "    # --- ADD THIS LINE ---\n",
    "    # Convert the entire model to float32 for numerical stability\n",
    "    model.float() \n",
    "    \n",
    "    print(f\"Reloaded original '{MODEL_NAME}' model and set to float32.\")\n",
    "except Exception as e:\n",
    "    print(f\"Error loading model: {e}\")"
   ]
  },
  {
   "cell_type": "code",
   "execution_count": 40,
   "metadata": {},
   "outputs": [
    {
     "name": "stdout",
     "output_type": "stream",
     "text": [
      "Filtered dataset created with 459 videos for fine-tuning.\n"
     ]
    }
   ],
   "source": [
    "def filter_data_for_classes(video_paths, labels, all_class_names, target_classes):\n",
    "    \"\"\"Filters the dataset to only include videos from the target classes.\"\"\"\n",
    "    \n",
    "    filtered_paths = []\n",
    "    filtered_labels = []\n",
    "    \n",
    "    # Create a new mapping for the target classes (e.g., 'Basketball' -> 0)\n",
    "    target_label_map = {name: i for i, name in enumerate(target_classes)}\n",
    "    \n",
    "    for path, label_idx in zip(video_paths, labels):\n",
    "        class_name = all_class_names[label_idx]\n",
    "        \n",
    "        # Check if the video's class is one we want to fine-tune\n",
    "        if class_name in target_classes:\n",
    "            filtered_paths.append(path)\n",
    "            # Add the new, remapped label (0-4)\n",
    "            filtered_labels.append(target_label_map[class_name])\n",
    "            \n",
    "    return filtered_paths, filtered_labels\n",
    "\n",
    "\n",
    "# --- Run the filtering function ---\n",
    "finetune_videos, finetune_labels = filter_data_for_classes(\n",
    "    train_videos, \n",
    "    train_labels, \n",
    "    CLASSES, # Your original full list of 15 class names\n",
    "    CLASSES_TO_FINETUNE\n",
    ")\n",
    "\n",
    "print(f\"Filtered dataset created with {len(finetune_videos)} videos for fine-tuning.\")"
   ]
  },
  {
   "cell_type": "code",
   "execution_count": 41,
   "metadata": {},
   "outputs": [],
   "source": [
    "def extract_clip(video_path, clip_duration_sec, num_frames_in_clip):\n",
    "    \"\"\"\n",
    "    Extracts a clip and ensures it always returns `num_frames_in_clip` frames.\n",
    "    \"\"\"\n",
    "    try:\n",
    "        cap = cv2.VideoCapture(video_path)\n",
    "        fps = cap.get(cv2.CAP_PROP_FPS)\n",
    "        total_frames = int(cap.get(cv2.CAP_PROP_FRAME_COUNT))\n",
    "        frames_in_duration = int(clip_duration_sec * fps)\n",
    "        \n",
    "        if total_frames <= frames_in_duration:\n",
    "            start_frame = 0\n",
    "            clip_frame_count = total_frames\n",
    "        else:\n",
    "            center_frame = total_frames // 2\n",
    "            start_frame = max(0, center_frame - (frames_in_duration // 2))\n",
    "            clip_frame_count = frames_in_duration\n",
    "\n",
    "        frame_indices = np.linspace(start_frame, start_frame + clip_frame_count - 1, num_frames_in_clip, dtype=int)\n",
    "        \n",
    "        frames = []\n",
    "        for index in frame_indices:\n",
    "            cap.set(cv2.CAP_PROP_POS_FRAMES, index)\n",
    "            ret, frame = cap.read()\n",
    "            if ret:\n",
    "                frame_rgb = cv2.cvtColor(frame, cv2.COLOR_BGR2RGB)\n",
    "                frames.append(Image.fromarray(frame_rgb))\n",
    "        \n",
    "        cap.release()\n",
    "\n",
    "        # --- KEY FIX: Pad the frames list if it's too short ---\n",
    "        if frames:\n",
    "            while len(frames) < num_frames_in_clip:\n",
    "                # Duplicate the last good frame to meet the required count\n",
    "                frames.append(frames[-1])\n",
    "        \n",
    "        return frames\n",
    "\n",
    "    except Exception as e:\n",
    "        print(f\"Error processing video {video_path}: {e}\")\n",
    "        return []"
   ]
  },
  {
   "cell_type": "code",
   "execution_count": 42,
   "metadata": {},
   "outputs": [],
   "source": [
    "class ActionDataset(Dataset):\n",
    "    \"\"\"Custom PyTorch Dataset that uses the corrected extract_clip function.\"\"\"\n",
    "    def __init__(self, video_paths, labels):\n",
    "        self.video_paths = video_paths\n",
    "        self.labels = labels\n",
    "\n",
    "    def __len__(self):\n",
    "        return len(self.video_paths)\n",
    "\n",
    "    def __getitem__(self, idx):\n",
    "        video_path = self.video_paths[idx]\n",
    "        label = self.labels[idx]\n",
    "        \n",
    "        # This now calls the corrected function above\n",
    "        frames = extract_clip(video_path, CLIP_DURATION_SEC, NUM_FRAMES_IN_CLIP)\n",
    "        \n",
    "        if frames:\n",
    "            preprocessed_frames = torch.stack([preprocess(frame) for frame in frames])\n",
    "        else:\n",
    "            print(f\"Warning: Could not extract frames for {video_path}. Returning a dummy tensor.\")\n",
    "            preprocessed_frames = torch.zeros((NUM_FRAMES_IN_CLIP, 3, 224, 224))\n",
    "            \n",
    "        return preprocessed_frames, label"
   ]
  },
  {
   "cell_type": "code",
   "execution_count": 43,
   "metadata": {},
   "outputs": [
    {
     "name": "stdout",
     "output_type": "stream",
     "text": [
      "DataLoader created for the 5 target classes.\n"
     ]
    }
   ],
   "source": [
    "# Create the dataset and loader\n",
    "finetune_dataset = ActionDataset(finetune_videos, finetune_labels)\n",
    "finetune_loader = DataLoader(finetune_dataset, batch_size=8, shuffle=True)\n",
    "\n",
    "print(f\"DataLoader created for the {len(CLASSES_TO_FINETUNE)} target classes.\")"
   ]
  },
  {
   "cell_type": "code",
   "execution_count": 44,
   "metadata": {},
   "outputs": [],
   "source": [
    "# Setup optimizer and loss\n",
    "optimizer = torch.optim.AdamW(model.parameters(), lr=1e-6)\n",
    "loss_fn = torch.nn.CrossEntropyLoss()\n",
    "\n",
    "def fine_tune_model(model, dataloader, optimizer, loss_fn, class_names_for_tuning, num_epochs=3):\n",
    "    \"\"\"\n",
    "    Runs the fine-tuning loop with an epsilon value for numerical stability.\n",
    "    \"\"\"\n",
    "    \n",
    "    with torch.no_grad():\n",
    "        text_prompts = [f\"a photo of a person {c}\" for c in class_names_for_tuning]\n",
    "        text_inputs = torch.cat([clip.tokenize(prompt) for prompt in text_prompts]).to(DEVICE)\n",
    "        text_features = model.encode_text(text_inputs).float()\n",
    "        \n",
    "        # --- FIX: Added epsilon for numerical stability ---\n",
    "        text_features = text_features / (text_features.norm(dim=-1, keepdim=True) + 1e-8)\n",
    "        \n",
    "    for epoch in range(num_epochs):\n",
    "        model.train()\n",
    "        total_loss = 0\n",
    "        \n",
    "        for images, labels in tqdm(dataloader, desc=f\"Epoch {epoch+1}/{num_epochs}\"):\n",
    "            images = images.to(DEVICE)\n",
    "            labels = labels.to(DEVICE)\n",
    "            \n",
    "            # --- Forward Pass ---\n",
    "            batch_size, num_frames, C, H, W = images.shape\n",
    "            images = images.view(-1, C, H, W)\n",
    "            image_features = model.encode_image(images).float()\n",
    "            image_features = image_features.view(batch_size, num_frames, -1).mean(dim=1)\n",
    "\n",
    "            # --- FIX: Added epsilon for numerical stability ---\n",
    "            image_features = image_features / (image_features.norm(dim=-1, keepdim=True) + 1e-8)\n",
    "            \n",
    "            logit_scale = model.logit_scale.exp()\n",
    "            logits = logit_scale * image_features @ text_features.T\n",
    "\n",
    "            # --- Backward/Optimizer Pass ---\n",
    "            loss = loss_fn(logits, labels)\n",
    "            \n",
    "            # Check if loss is NaN before backward pass\n",
    "            if torch.isnan(loss):\n",
    "                print(\"Warning: Loss is NaN, skipping update step.\")\n",
    "                continue\n",
    "\n",
    "            optimizer.zero_grad()\n",
    "            loss.backward()\n",
    "            torch.nn.utils.clip_grad_norm_(model.parameters(), 1.0)\n",
    "            optimizer.step()\n",
    "            total_loss += loss.item()\n",
    "            \n",
    "        avg_loss = total_loss / len(dataloader)\n",
    "        print(f\"Epoch {epoch+1} completed. Average Loss: {avg_loss:.4f}\")\n",
    "\n",
    "    print(\"Fine-tuning complete.\")\n",
    "    return model"
   ]
  },
  {
   "cell_type": "code",
   "execution_count": 45,
   "metadata": {},
   "outputs": [
    {
     "name": "stderr",
     "output_type": "stream",
     "text": [
      "Epoch 1/2: 100%|██████████| 58/58 [28:03<00:00, 29.02s/it]\n"
     ]
    },
    {
     "name": "stdout",
     "output_type": "stream",
     "text": [
      "Epoch 1 completed. Average Loss: 0.0733\n"
     ]
    },
    {
     "name": "stderr",
     "output_type": "stream",
     "text": [
      "Epoch 2/2: 100%|██████████| 58/58 [27:27<00:00, 28.40s/it]"
     ]
    },
    {
     "name": "stdout",
     "output_type": "stream",
     "text": [
      "Epoch 2 completed. Average Loss: 0.0021\n",
      "Fine-tuning complete.\n"
     ]
    },
    {
     "name": "stderr",
     "output_type": "stream",
     "text": [
      "\n"
     ]
    }
   ],
   "source": [
    "# Run the fine-tuning process on only the 5 worst-performing classes\n",
    "fine_tuned_model = fine_tune_model(\n",
    "    model, \n",
    "    finetune_loader, \n",
    "    optimizer, \n",
    "    loss_fn,\n",
    "    class_names_for_tuning=CLASSES_TO_FINETUNE, # Pass the list of 5 classes\n",
    "    num_epochs=2\n",
    ")"
   ]
  },
  {
   "cell_type": "code",
   "execution_count": 46,
   "metadata": {},
   "outputs": [
    {
     "name": "stdout",
     "output_type": "stream",
     "text": [
      "Fine-tuned model saved to: finetuned_clip_model.pth\n"
     ]
    }
   ],
   "source": [
    "SAVE_PATH = \"finetuned_clip_model.pth\"\n",
    "\n",
    "torch.save(fine_tuned_model.state_dict(), SAVE_PATH)\n",
    "\n",
    "print(f\"Fine-tuned model saved to: {SAVE_PATH}\")"
   ]
  },
  {
   "cell_type": "code",
   "execution_count": null,
   "metadata": {},
   "outputs": [
    {
     "name": "stdout",
     "output_type": "stream",
     "text": [
      "Fine-tuned model saved to: finetuned_clip_model.pt\n"
     ]
    }
   ],
   "source": [
    "SAVE_PATH = \"finetuned_clip_model.pt\"\n",
    "\n",
    "torch.save(fine_tuned_model.state_dict(), SAVE_PATH)\n",
    "\n",
    "print(f\"Fine-tuned model saved to: {SAVE_PATH}\")"
   ]
  },
  {
   "cell_type": "code",
   "execution_count": null,
   "metadata": {},
   "outputs": [],
   "source": [
    "def fine_tune_perform_zero_shot_classification(model, video_paths, true_labels, class_names, split_name, save_frames=False):\n",
    "    \"\"\"\n",
    "    Runs classification. Frame saving is now optional.\n",
    "    \"\"\"\n",
    "    model.eval()\n",
    "    text_prompts = [f\"a photo of a person {c}\" for c in class_names]\n",
    "    text_inputs = torch.cat([clip.tokenize(prompt) for prompt in text_prompts]).to(DEVICE)\n",
    "    with torch.no_grad():\n",
    "        text_features = model.encode_text(text_inputs)\n",
    "        text_features /= text_features.norm(dim=-1, keepdim=True)\n",
    "\n",
    "    predictions, ground_truth = [], []\n",
    "    \n",
    "    for i, video_path in enumerate(tqdm(video_paths, desc=f\"Processing {split_name} Set\")):\n",
    "        video_path = video_path.replace(\"\\\\\", \"/\")\n",
    "        \n",
    "        if save_frames:\n",
    "            class_name = class_names[true_labels[i]]\n",
    "            video_filename = os.path.splitext(os.path.basename(video_path))[0]\n",
    "            save_directory = os.path.join(FRAME_OUTPUT_PATH, split_name, class_name, video_filename)\n",
    "            frames = extract_clip(video_path, CLIP_DURATION_SEC, NUM_FRAMES_IN_CLIP, save_dir=save_directory)\n",
    "        else:\n",
    "            frames = extract_clip(video_path, CLIP_DURATION_SEC, NUM_FRAMES_IN_CLIP)\n",
    "        \n",
    "        if not frames: continue\n",
    "            \n",
    "        image_inputs = torch.stack([preprocess(frame) for frame in frames]).to(DEVICE)\n",
    "        \n",
    "        with torch.no_grad():\n",
    "            image_features = model.encode_image(image_inputs)\n",
    "            video_feature = image_features.mean(dim=0)\n",
    "            video_feature /= video_feature.norm(dim=-1, keepdim=True)\n",
    "            \n",
    "        logit_scale = model.logit_scale.exp()\n",
    "        similarity = (logit_scale * video_feature @ text_features.T).softmax(dim=-1)\n",
    "        _, top_pred_idx = similarity.topk(1)\n",
    "        \n",
    "        predictions.append(top_pred_idx.item())\n",
    "        ground_truth.append(true_labels[i])\n",
    "        \n",
    "    return predictions, ground_truth"
   ]
  },
  {
   "cell_type": "code",
   "execution_count": null,
   "metadata": {},
   "outputs": [
    {
     "name": "stderr",
     "output_type": "stream",
     "text": [
      "Processing Test Set:   7%|▋         | 42/568 [00:31<06:13,  1.41it/s]"
     ]
    }
   ],
   "source": [
    "finetuned_predicted_labels, finetuned_true_labels = fine_tune_perform_zero_shot_classification(\n",
    "    fine_tuned_model,\n",
    "    test_videos,\n",
    "    test_labels,\n",
    "    CLASSES_TO_FINETUNE,\n",
    "    split_name='Test'\n",
    ")"
   ]
  },
  {
   "cell_type": "code",
   "execution_count": null,
   "metadata": {},
   "outputs": [],
   "source": []
  }
 ],
 "metadata": {
  "kernelspec": {
   "display_name": "venv",
   "language": "python",
   "name": "python3"
  },
  "language_info": {
   "codemirror_mode": {
    "name": "ipython",
    "version": 3
   },
   "file_extension": ".py",
   "mimetype": "text/x-python",
   "name": "python",
   "nbconvert_exporter": "python",
   "pygments_lexer": "ipython3",
   "version": "3.9.23"
  }
 },
 "nbformat": 4,
 "nbformat_minor": 2
}
